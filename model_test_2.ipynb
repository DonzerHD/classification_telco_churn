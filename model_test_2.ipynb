{
 "cells": [
  {
   "cell_type": "code",
   "execution_count": 23,
   "metadata": {},
   "outputs": [],
   "source": [
    "import pandas as pd\n",
    "import numpy as np\n",
    "import matplotlib.pyplot as plt\n",
    "import seaborn as sns\n",
    "\n",
    "# II La régression logistique en pratique\n",
    "df = pd.read_csv(\"data/gold.csv\")\n",
    "\n"
   ]
  },
  {
   "cell_type": "code",
   "execution_count": 24,
   "metadata": {},
   "outputs": [],
   "source": [
    "from sklearn.model_selection import train_test_split\n",
    "X = df.drop('Churn', axis=1)\n",
    "y = df['Churn']\n",
    "X_train, X_test, y_train, y_test = train_test_split(X, y, train_size=0.8, shuffle=True, random_state=42)"
   ]
  },
  {
   "cell_type": "code",
   "execution_count": 25,
   "metadata": {},
   "outputs": [],
   "source": [
    "import numpy as np\n",
    "from sklearn.preprocessing import LabelEncoder\n"
   ]
  },
  {
   "cell_type": "code",
   "execution_count": 26,
   "metadata": {},
   "outputs": [],
   "source": [
    "from sklearn.pipeline import Pipeline\n",
    "from sklearn.preprocessing import OneHotEncoder\n",
    "from sklearn.compose import ColumnTransformer\n",
    "from sklearn.linear_model import LogisticRegression\n",
    "from sklearn import set_config\n",
    "from sklearn.preprocessing import StandardScaler\n",
    "\n",
    "set_config(display='diagram')\n",
    "\n",
    "\n",
    "categorical_features = ['gender', 'SeniorCitizen', 'Partner', 'Dependents', \n",
    "       'PhoneService', 'MultipleLines', 'InternetService', 'Contract', \n",
    "       'PaperlessBilling', 'PaymentMethod'\n",
    "       ]\n",
    "\n",
    "numerical_features = [\n",
    "    \"tenure\",\n",
    "    \"MonthlyCharges\",\n",
    "    \"TotalCharges\",\n",
    "    \"nb_service_internet\",\n",
    "]\n",
    "\n",
    "numerical_transformer = StandardScaler()\n",
    "\n",
    "# Create the OneHotEncoder\n",
    "categorical_transformer = OneHotEncoder(categories='auto', sparse=True)\n",
    "\n",
    "\n",
    "preprocessor = ColumnTransformer(\n",
    "    transformers=[\n",
    "        ('cat', categorical_transformer, categorical_features),\n",
    "        ('num', numerical_transformer, numerical_features)\n",
    "    ],\n",
    "    remainder=\"passthrough\"\n",
    ")\n",
    "\n",
    "log_reg = LogisticRegression()\n",
    "pipe = Pipeline([\n",
    "     ('preprocessor', preprocessor),\n",
    "     ('log_reg', log_reg)\n",
    "])"
   ]
  },
  {
   "cell_type": "code",
   "execution_count": null,
   "metadata": {},
   "outputs": [],
   "source": [
    "dd"
   ]
  },
  {
   "cell_type": "code",
   "execution_count": 27,
   "metadata": {},
   "outputs": [
    {
     "name": "stderr",
     "output_type": "stream",
     "text": [
      "Support for multi-dimensional indexing (e.g. `obj[:, None]`) is deprecated and will be removed in a future version.  Convert to a numpy array before indexing instead.\n"
     ]
    },
    {
     "data": {
      "text/html": [
       "<style>div.sk-top-container {color: black;background-color: white;}div.sk-toggleable {background-color: white;}label.sk-toggleable__label {cursor: pointer;display: block;width: 100%;margin-bottom: 0;padding: 0.2em 0.3em;box-sizing: border-box;text-align: center;}div.sk-toggleable__content {max-height: 0;max-width: 0;overflow: hidden;text-align: left;background-color: #f0f8ff;}div.sk-toggleable__content pre {margin: 0.2em;color: black;border-radius: 0.25em;background-color: #f0f8ff;}input.sk-toggleable__control:checked~div.sk-toggleable__content {max-height: 200px;max-width: 100%;overflow: auto;}div.sk-estimator input.sk-toggleable__control:checked~label.sk-toggleable__label {background-color: #d4ebff;}div.sk-label input.sk-toggleable__control:checked~label.sk-toggleable__label {background-color: #d4ebff;}input.sk-hidden--visually {border: 0;clip: rect(1px 1px 1px 1px);clip: rect(1px, 1px, 1px, 1px);height: 1px;margin: -1px;overflow: hidden;padding: 0;position: absolute;width: 1px;}div.sk-estimator {font-family: monospace;background-color: #f0f8ff;margin: 0.25em 0.25em;border: 1px dotted black;border-radius: 0.25em;box-sizing: border-box;}div.sk-estimator:hover {background-color: #d4ebff;}div.sk-parallel-item::after {content: \"\";width: 100%;border-bottom: 1px solid gray;flex-grow: 1;}div.sk-label:hover label.sk-toggleable__label {background-color: #d4ebff;}div.sk-serial::before {content: \"\";position: absolute;border-left: 1px solid gray;box-sizing: border-box;top: 2em;bottom: 0;left: 50%;}div.sk-serial {display: flex;flex-direction: column;align-items: center;background-color: white;}div.sk-item {z-index: 1;}div.sk-parallel {display: flex;align-items: stretch;justify-content: center;background-color: white;}div.sk-parallel-item {display: flex;flex-direction: column;position: relative;background-color: white;}div.sk-parallel-item:first-child::after {align-self: flex-end;width: 50%;}div.sk-parallel-item:last-child::after {align-self: flex-start;width: 50%;}div.sk-parallel-item:only-child::after {width: 0;}div.sk-dashed-wrapped {border: 1px dashed gray;margin: 0.2em;box-sizing: border-box;padding-bottom: 0.1em;background-color: white;position: relative;}div.sk-label label {font-family: monospace;font-weight: bold;background-color: white;display: inline-block;line-height: 1.2em;}div.sk-label-container {position: relative;z-index: 2;text-align: center;}div.sk-container {display: inline-block;position: relative;}</style><div class=\"sk-top-container\"><div class=\"sk-container\"><div class=\"sk-item sk-dashed-wrapped\"><div class=\"sk-label-container\"><div class=\"sk-label sk-toggleable\"><input class=\"sk-toggleable__control sk-hidden--visually\" id=\"27a08560-37a3-41d2-afcd-9d8abab5be0d\" type=\"checkbox\" ><label class=\"sk-toggleable__label\" for=\"27a08560-37a3-41d2-afcd-9d8abab5be0d\">Pipeline</label><div class=\"sk-toggleable__content\"><pre>Pipeline(steps=[('preprocessor',\n",
       "                 ColumnTransformer(remainder='passthrough',\n",
       "                                   transformers=[('cat', OneHotEncoder(),\n",
       "                                                  ['gender', 'SeniorCitizen',\n",
       "                                                   'Partner', 'Dependents',\n",
       "                                                   'PhoneService',\n",
       "                                                   'MultipleLines',\n",
       "                                                   'InternetService',\n",
       "                                                   'Contract',\n",
       "                                                   'PaperlessBilling',\n",
       "                                                   'PaymentMethod']),\n",
       "                                                 ('num', StandardScaler(),\n",
       "                                                  ['tenure', 'MonthlyCharges',\n",
       "                                                   'TotalCharges',\n",
       "                                                   'nb_service_internet'])])),\n",
       "                ('log_reg', LogisticRegression())])</pre></div></div></div><div class=\"sk-serial\"><div class=\"sk-item sk-dashed-wrapped\"><div class=\"sk-label-container\"><div class=\"sk-label sk-toggleable\"><input class=\"sk-toggleable__control sk-hidden--visually\" id=\"3381c262-c80c-4b73-91ea-5c5213702e61\" type=\"checkbox\" ><label class=\"sk-toggleable__label\" for=\"3381c262-c80c-4b73-91ea-5c5213702e61\">preprocessor: ColumnTransformer</label><div class=\"sk-toggleable__content\"><pre>ColumnTransformer(remainder='passthrough',\n",
       "                  transformers=[('cat', OneHotEncoder(),\n",
       "                                 ['gender', 'SeniorCitizen', 'Partner',\n",
       "                                  'Dependents', 'PhoneService', 'MultipleLines',\n",
       "                                  'InternetService', 'Contract',\n",
       "                                  'PaperlessBilling', 'PaymentMethod']),\n",
       "                                ('num', StandardScaler(),\n",
       "                                 ['tenure', 'MonthlyCharges', 'TotalCharges',\n",
       "                                  'nb_service_internet'])])</pre></div></div></div><div class=\"sk-parallel\"><div class=\"sk-parallel-item\"><div class=\"sk-item\"><div class=\"sk-label-container\"><div class=\"sk-label sk-toggleable\"><input class=\"sk-toggleable__control sk-hidden--visually\" id=\"647238bf-3206-430a-a5a9-ef57135d7834\" type=\"checkbox\" ><label class=\"sk-toggleable__label\" for=\"647238bf-3206-430a-a5a9-ef57135d7834\">cat</label><div class=\"sk-toggleable__content\"><pre>['gender', 'SeniorCitizen', 'Partner', 'Dependents', 'PhoneService', 'MultipleLines', 'InternetService', 'Contract', 'PaperlessBilling', 'PaymentMethod']</pre></div></div></div><div class=\"sk-serial\"><div class=\"sk-item\"><div class=\"sk-estimator sk-toggleable\"><input class=\"sk-toggleable__control sk-hidden--visually\" id=\"eebbde54-e4c3-4369-9f95-5829487a3141\" type=\"checkbox\" ><label class=\"sk-toggleable__label\" for=\"eebbde54-e4c3-4369-9f95-5829487a3141\">OneHotEncoder</label><div class=\"sk-toggleable__content\"><pre>OneHotEncoder()</pre></div></div></div></div></div></div><div class=\"sk-parallel-item\"><div class=\"sk-item\"><div class=\"sk-label-container\"><div class=\"sk-label sk-toggleable\"><input class=\"sk-toggleable__control sk-hidden--visually\" id=\"22d34f26-2f31-40f6-bfd9-18325b4ea95f\" type=\"checkbox\" ><label class=\"sk-toggleable__label\" for=\"22d34f26-2f31-40f6-bfd9-18325b4ea95f\">num</label><div class=\"sk-toggleable__content\"><pre>['tenure', 'MonthlyCharges', 'TotalCharges', 'nb_service_internet']</pre></div></div></div><div class=\"sk-serial\"><div class=\"sk-item\"><div class=\"sk-estimator sk-toggleable\"><input class=\"sk-toggleable__control sk-hidden--visually\" id=\"6f991a44-e796-429c-8650-bb768d8ebe2e\" type=\"checkbox\" ><label class=\"sk-toggleable__label\" for=\"6f991a44-e796-429c-8650-bb768d8ebe2e\">StandardScaler</label><div class=\"sk-toggleable__content\"><pre>StandardScaler()</pre></div></div></div></div></div></div><div class=\"sk-parallel-item\"><div class=\"sk-item\"><div class=\"sk-label-container\"><div class=\"sk-label sk-toggleable\"><input class=\"sk-toggleable__control sk-hidden--visually\" id=\"21c76037-9ed9-4392-9387-a2d4ac3cd799\" type=\"checkbox\" ><label class=\"sk-toggleable__label\" for=\"21c76037-9ed9-4392-9387-a2d4ac3cd799\">remainder</label><div class=\"sk-toggleable__content\"><pre>[['gender', 'SeniorCitizen', 'Partner', 'Dependents', 'tenure', 'PhoneService', 'MultipleLines', 'InternetService', 'Contract', 'PaperlessBilling', 'PaymentMethod', 'MonthlyCharges', 'TotalCharges', 'nb_service_internet']]</pre></div></div></div><div class=\"sk-serial\"><div class=\"sk-item\"><div class=\"sk-estimator sk-toggleable\"><input class=\"sk-toggleable__control sk-hidden--visually\" id=\"6a12fe5a-7a4a-4a52-a37b-f82009dcddb0\" type=\"checkbox\" ><label class=\"sk-toggleable__label\" for=\"6a12fe5a-7a4a-4a52-a37b-f82009dcddb0\">passthrough</label><div class=\"sk-toggleable__content\"><pre>passthrough</pre></div></div></div></div></div></div></div></div><div class=\"sk-item\"><div class=\"sk-estimator sk-toggleable\"><input class=\"sk-toggleable__control sk-hidden--visually\" id=\"5846b9e4-9442-4706-ad32-55163a2fe64e\" type=\"checkbox\" ><label class=\"sk-toggleable__label\" for=\"5846b9e4-9442-4706-ad32-55163a2fe64e\">LogisticRegression</label><div class=\"sk-toggleable__content\"><pre>LogisticRegression()</pre></div></div></div></div></div></div></div>"
      ],
      "text/plain": [
       "Pipeline(steps=[('preprocessor',\n",
       "                 ColumnTransformer(remainder='passthrough',\n",
       "                                   transformers=[('cat', OneHotEncoder(),\n",
       "                                                  ['gender', 'SeniorCitizen',\n",
       "                                                   'Partner', 'Dependents',\n",
       "                                                   'PhoneService',\n",
       "                                                   'MultipleLines',\n",
       "                                                   'InternetService',\n",
       "                                                   'Contract',\n",
       "                                                   'PaperlessBilling',\n",
       "                                                   'PaymentMethod']),\n",
       "                                                 ('num', StandardScaler(),\n",
       "                                                  ['tenure', 'MonthlyCharges',\n",
       "                                                   'TotalCharges',\n",
       "                                                   'nb_service_internet'])])),\n",
       "                ('log_reg', LogisticRegression())])"
      ]
     },
     "execution_count": 27,
     "metadata": {},
     "output_type": "execute_result"
    }
   ],
   "source": [
    "pipe.fit(X_train, y_train)"
   ]
  },
  {
   "cell_type": "code",
   "execution_count": 28,
   "metadata": {},
   "outputs": [
    {
     "data": {
      "text/plain": [
       "0.8204400283889283"
      ]
     },
     "execution_count": 28,
     "metadata": {},
     "output_type": "execute_result"
    }
   ],
   "source": [
    "pipe.score(X_test, y_test)"
   ]
  },
  {
   "cell_type": "code",
   "execution_count": 30,
   "metadata": {},
   "outputs": [
    {
     "name": "stderr",
     "output_type": "stream",
     "text": [
      "\n",
      "Compilation is falling back to object mode WITH looplifting enabled because Function \"_build_fixed_single_output\" failed type inference due to: non-precise type array(pyobject, 1d, C)\n",
      "During: typing of argument at /home/apprenant/miniconda3/envs/shap-env/lib/python3.8/site-packages/shap/utils/_masked_model.py (349)\n",
      "\n",
      "File \"../../miniconda3/envs/shap-env/lib/python3.8/site-packages/shap/utils/_masked_model.py\", line 349:\n",
      "def _build_fixed_single_output(averaged_outs, last_outs, outputs, batch_positions, varying_rows, num_varying_rows, link):\n",
      "    <source elided>\n",
      "    # to carry over evaluation outputs\n",
      "    last_outs[:] = outputs[batch_positions[0]:batch_positions[1]]\n",
      "    ^\n",
      "\n",
      "\n",
      "Compilation is falling back to object mode WITHOUT looplifting enabled because Function \"_build_fixed_single_output\" failed type inference due to: Cannot determine Numba type of <class 'numba.core.dispatcher.LiftedLoop'>\n",
      "\n",
      "File \"../../miniconda3/envs/shap-env/lib/python3.8/site-packages/shap/utils/_masked_model.py\", line 353:\n",
      "def _build_fixed_single_output(averaged_outs, last_outs, outputs, batch_positions, varying_rows, num_varying_rows, link):\n",
      "    <source elided>\n",
      "    averaged_outs[0] = np.mean(last_outs)\n",
      "    for i in range(1, len(averaged_outs)):\n",
      "    ^\n",
      "\n",
      "Function \"_build_fixed_single_output\" was compiled in object mode without forceobj=True, but has lifted loops.\n",
      "\n",
      "File \"../../miniconda3/envs/shap-env/lib/python3.8/site-packages/shap/utils/_masked_model.py\", line 349:\n",
      "def _build_fixed_single_output(averaged_outs, last_outs, outputs, batch_positions, varying_rows, num_varying_rows, link):\n",
      "    <source elided>\n",
      "    # to carry over evaluation outputs\n",
      "    last_outs[:] = outputs[batch_positions[0]:batch_positions[1]]\n",
      "    ^\n",
      "\n",
      "\n",
      "Fall-back from the nopython compilation path to the object mode compilation path has been detected, this is deprecated behaviour.\n",
      "\n",
      "For more information visit https://numba.readthedocs.io/en/stable/reference/deprecation.html#deprecation-of-object-mode-fall-back-behaviour-when-using-jit\n",
      "\n",
      "File \"../../miniconda3/envs/shap-env/lib/python3.8/site-packages/shap/utils/_masked_model.py\", line 349:\n",
      "def _build_fixed_single_output(averaged_outs, last_outs, outputs, batch_positions, varying_rows, num_varying_rows, link):\n",
      "    <source elided>\n",
      "    # to carry over evaluation outputs\n",
      "    last_outs[:] = outputs[batch_positions[0]:batch_positions[1]]\n",
      "    ^\n",
      "\n"
     ]
    },
    {
     "ename": "ValueError",
     "evalue": "could not convert string to float: 'No'",
     "output_type": "error",
     "traceback": [
      "\u001b[0;31m---------------------------------------------------------------------------\u001b[0m",
      "\u001b[0;31mValueError\u001b[0m                                Traceback (most recent call last)",
      "Cell \u001b[0;32mIn[30], line 10\u001b[0m\n\u001b[1;32m      7\u001b[0m explainer \u001b[39m=\u001b[39m shap\u001b[39m.\u001b[39mExplainer(pipe\u001b[39m.\u001b[39mnamed_steps[\u001b[39m'\u001b[39m\u001b[39mlog_reg\u001b[39m\u001b[39m'\u001b[39m]\u001b[39m.\u001b[39mpredict, X_train_transformed)\n\u001b[1;32m      9\u001b[0m \u001b[39m# Calculer les SHAP values\u001b[39;00m\n\u001b[0;32m---> 10\u001b[0m shap_values \u001b[39m=\u001b[39m explainer(X_train_transformed)\n",
      "File \u001b[0;32m~/miniconda3/envs/shap-env/lib/python3.8/site-packages/shap/explainers/_explainer.py:255\u001b[0m, in \u001b[0;36mExplainer.__call__\u001b[0;34m(self, max_evals, main_effects, error_bounds, batch_size, outputs, silent, *args, **kwargs)\u001b[0m\n\u001b[1;32m    253\u001b[0m     feature_names \u001b[39m=\u001b[39m [[] \u001b[39mfor\u001b[39;00m _ \u001b[39min\u001b[39;00m \u001b[39mrange\u001b[39m(\u001b[39mlen\u001b[39m(args))]\n\u001b[1;32m    254\u001b[0m \u001b[39mfor\u001b[39;00m row_args \u001b[39min\u001b[39;00m show_progress(\u001b[39mzip\u001b[39m(\u001b[39m*\u001b[39margs), num_rows, \u001b[39mself\u001b[39m\u001b[39m.\u001b[39m\u001b[39m__class__\u001b[39m\u001b[39m.\u001b[39m\u001b[39m__name__\u001b[39m\u001b[39m+\u001b[39m\u001b[39m\"\u001b[39m\u001b[39m explainer\u001b[39m\u001b[39m\"\u001b[39m, silent):\n\u001b[0;32m--> 255\u001b[0m     row_result \u001b[39m=\u001b[39m \u001b[39mself\u001b[39;49m\u001b[39m.\u001b[39;49mexplain_row(\n\u001b[1;32m    256\u001b[0m         \u001b[39m*\u001b[39;49mrow_args, max_evals\u001b[39m=\u001b[39;49mmax_evals, main_effects\u001b[39m=\u001b[39;49mmain_effects, error_bounds\u001b[39m=\u001b[39;49merror_bounds,\n\u001b[1;32m    257\u001b[0m         batch_size\u001b[39m=\u001b[39;49mbatch_size, outputs\u001b[39m=\u001b[39;49moutputs, silent\u001b[39m=\u001b[39;49msilent, \u001b[39m*\u001b[39;49m\u001b[39m*\u001b[39;49mkwargs\n\u001b[1;32m    258\u001b[0m     )\n\u001b[1;32m    259\u001b[0m     values\u001b[39m.\u001b[39mappend(row_result\u001b[39m.\u001b[39mget(\u001b[39m\"\u001b[39m\u001b[39mvalues\u001b[39m\u001b[39m\"\u001b[39m, \u001b[39mNone\u001b[39;00m))\n\u001b[1;32m    260\u001b[0m     output_indices\u001b[39m.\u001b[39mappend(row_result\u001b[39m.\u001b[39mget(\u001b[39m\"\u001b[39m\u001b[39moutput_indices\u001b[39m\u001b[39m\"\u001b[39m, \u001b[39mNone\u001b[39;00m))\n",
      "File \u001b[0;32m~/miniconda3/envs/shap-env/lib/python3.8/site-packages/shap/explainers/_permutation.py:99\u001b[0m, in \u001b[0;36mPermutation.explain_row\u001b[0;34m(self, max_evals, main_effects, error_bounds, batch_size, outputs, silent, *row_args)\u001b[0m\n\u001b[1;32m     96\u001b[0m     i \u001b[39m+\u001b[39m\u001b[39m=\u001b[39m \u001b[39m1\u001b[39m\n\u001b[1;32m     98\u001b[0m \u001b[39m# evaluate the masked model\u001b[39;00m\n\u001b[0;32m---> 99\u001b[0m outputs \u001b[39m=\u001b[39m fm(masks, batch_size\u001b[39m=\u001b[39;49mbatch_size)\n\u001b[1;32m    101\u001b[0m \u001b[39mif\u001b[39;00m row_values \u001b[39mis\u001b[39;00m \u001b[39mNone\u001b[39;00m:\n\u001b[1;32m    102\u001b[0m     row_values \u001b[39m=\u001b[39m np\u001b[39m.\u001b[39mzeros((\u001b[39mlen\u001b[39m(fm),) \u001b[39m+\u001b[39m outputs\u001b[39m.\u001b[39mshape[\u001b[39m1\u001b[39m:])\n",
      "File \u001b[0;32m~/miniconda3/envs/shap-env/lib/python3.8/site-packages/shap/utils/_masked_model.py:51\u001b[0m, in \u001b[0;36mMaskedModel.__call__\u001b[0;34m(self, masks, batch_size)\u001b[0m\n\u001b[1;32m     49\u001b[0m \u001b[39mif\u001b[39;00m \u001b[39mlen\u001b[39m(masks\u001b[39m.\u001b[39mshape) \u001b[39m==\u001b[39m \u001b[39m1\u001b[39m:\n\u001b[1;32m     50\u001b[0m     \u001b[39mif\u001b[39;00m \u001b[39mgetattr\u001b[39m(\u001b[39mself\u001b[39m\u001b[39m.\u001b[39mmasker, \u001b[39m\"\u001b[39m\u001b[39msupports_delta_masking\u001b[39m\u001b[39m\"\u001b[39m, \u001b[39mFalse\u001b[39;00m):\n\u001b[0;32m---> 51\u001b[0m         \u001b[39mreturn\u001b[39;00m \u001b[39mself\u001b[39;49m\u001b[39m.\u001b[39;49m_delta_masking_call(masks, batch_size\u001b[39m=\u001b[39;49mbatch_size)\n\u001b[1;32m     53\u001b[0m     \u001b[39m# we need to convert from delta masking to a full masking call because we were given a delta masking\u001b[39;00m\n\u001b[1;32m     54\u001b[0m     \u001b[39m# input but the masker does not support delta masking\u001b[39;00m\n\u001b[1;32m     55\u001b[0m     \u001b[39melse\u001b[39;00m: \n\u001b[1;32m     56\u001b[0m         full_masks \u001b[39m=\u001b[39m np\u001b[39m.\u001b[39mzeros((\u001b[39mint\u001b[39m(np\u001b[39m.\u001b[39msum(masks \u001b[39m>\u001b[39m\u001b[39m=\u001b[39m \u001b[39m0\u001b[39m)), \u001b[39mself\u001b[39m\u001b[39m.\u001b[39m_masker_cols), dtype\u001b[39m=\u001b[39mnp\u001b[39m.\u001b[39mbool)\n",
      "File \u001b[0;32m~/miniconda3/envs/shap-env/lib/python3.8/site-packages/shap/utils/_masked_model.py:193\u001b[0m, in \u001b[0;36mMaskedModel._delta_masking_call\u001b[0;34m(self, masks, batch_size)\u001b[0m\n\u001b[1;32m    191\u001b[0m last_outs \u001b[39m=\u001b[39m np\u001b[39m.\u001b[39mzeros((varying_rows\u001b[39m.\u001b[39mshape[\u001b[39m1\u001b[39m],) \u001b[39m+\u001b[39m outputs\u001b[39m.\u001b[39mshape[\u001b[39m1\u001b[39m:])\n\u001b[1;32m    192\u001b[0m \u001b[39m#print(\"link\", self.link)\u001b[39;00m\n\u001b[0;32m--> 193\u001b[0m _build_fixed_output(averaged_outs, last_outs, outputs, batch_positions, varying_rows, num_varying_rows, \u001b[39mself\u001b[39;49m\u001b[39m.\u001b[39;49mlink)\n\u001b[1;32m    195\u001b[0m \u001b[39mreturn\u001b[39;00m averaged_outs\n",
      "File \u001b[0;32m~/miniconda3/envs/shap-env/lib/python3.8/site-packages/shap/utils/_masked_model.py:341\u001b[0m, in \u001b[0;36m_build_fixed_output\u001b[0;34m(averaged_outs, last_outs, outputs, batch_positions, varying_rows, num_varying_rows, link)\u001b[0m\n\u001b[1;32m    339\u001b[0m \u001b[39mdef\u001b[39;00m \u001b[39m_build_fixed_output\u001b[39m(averaged_outs, last_outs, outputs, batch_positions, varying_rows, num_varying_rows, link):\n\u001b[1;32m    340\u001b[0m     \u001b[39mif\u001b[39;00m \u001b[39mlen\u001b[39m(last_outs\u001b[39m.\u001b[39mshape) \u001b[39m==\u001b[39m \u001b[39m1\u001b[39m:\n\u001b[0;32m--> 341\u001b[0m         _build_fixed_single_output(averaged_outs, last_outs, outputs, batch_positions, varying_rows, num_varying_rows, link)\n\u001b[1;32m    342\u001b[0m     \u001b[39melse\u001b[39;00m:\n\u001b[1;32m    343\u001b[0m         _build_fixed_multi_output(averaged_outs, last_outs, outputs, batch_positions, varying_rows, num_varying_rows, link)\n",
      "\u001b[0;31mValueError\u001b[0m: could not convert string to float: 'No'"
     ]
    }
   ],
   "source": [
    "import shap\n",
    "\n",
    "# Transformer les données d'entraînement avec le préprocesseur\n",
    "X_train_transformed = preprocessor.transform(X_train)\n",
    "\n",
    "# Crée un objet explainer en utilisant le modèle\n",
    "explainer = shap.Explainer(pipe.named_steps['log_reg'].predict, X_train_transformed)\n",
    "\n",
    "# Calculer les SHAP values\n",
    "shap_values = explainer(X_train_transformed)"
   ]
  }
 ],
 "metadata": {
  "kernelspec": {
   "display_name": "machine-learning",
   "language": "python",
   "name": "python3"
  },
  "language_info": {
   "codemirror_mode": {
    "name": "ipython",
    "version": 3
   },
   "file_extension": ".py",
   "mimetype": "text/x-python",
   "name": "python",
   "nbconvert_exporter": "python",
   "pygments_lexer": "ipython3",
   "version": "3.8.16"
  },
  "orig_nbformat": 4
 },
 "nbformat": 4,
 "nbformat_minor": 2
}
